{
 "cells": [
  {
   "cell_type": "markdown",
   "metadata": {},
   "source": [
    "## Solving inte/diff mixed problem"
   ]
  },
  {
   "cell_type": "markdown",
   "metadata": {},
   "source": [
    "The controling equation is \n",
    "\n",
    "$$\n",
    "y'(x) = \\frac{-\\frac{(m-r)^2}{2\\sigma^2} (y(x))^2 }{(p+rx)y(x) - \\lambda \\int_{0}^{x} y(t) F(x-t) dt  + \\lambda F(x) \\delta(0)  }\n",
    "$$"
   ]
  },
  {
   "cell_type": "markdown",
   "metadata": {},
   "source": [
    "in which, $F(x)$ subjects to a Benktander II distribution with parameters $(\\alpha=\\frac{2}{3}, \\beta=\\frac{2}{3})$ and is defined as\n",
    "\n",
    "$$\n",
    "F(x) = x^{-1+\\beta}e^{\\frac{\\alpha}{\\beta}-\\frac{\\alpha}{\\beta} x^{\\beta}}\n",
    "$$\n",
    "\n",
    "We generate $F(x)$ in range $[0, 300)$"
   ]
  },
  {
   "cell_type": "code",
   "execution_count": 1,
   "metadata": {},
   "outputs": [],
   "source": [
    "# we setup all the parameters here\n",
    "n = 300\n",
    "alpha = 2.0/3.0\n",
    "beta = 2.0/3.0\n",
    "m = 0.05\n",
    "r = 0.02\n",
    "sigma = 0.1\n",
    "p = 1\n",
    "Lambda = 1\n",
    "delta = 1.0e-10"
   ]
  },
  {
   "cell_type": "code",
   "execution_count": 2,
   "metadata": {},
   "outputs": [],
   "source": [
    "import math\n",
    "\n",
    "x = list(range(n))\n",
    "def F(x):\n",
    "    \n",
    "    if abs(x) < 1.0e-10:\n",
    "        return 1.0\n",
    "    \n",
    "    global alpha\n",
    "    global beta\n",
    "    #return x**(-1.0+beta) * math.exp(alpha/beta - alpha/(beta*(x**beta)))\n",
    "    return x**(-1.0+beta) * math.exp(alpha/beta - alpha/beta*(x**beta))\n",
    "                                     \n",
    "Fx = list(map(F, x))"
   ]
  },
  {
   "cell_type": "markdown",
   "metadata": {},
   "source": [
    "Now let's take a look at Fx series"
   ]
  },
  {
   "cell_type": "code",
   "execution_count": 3,
   "metadata": {},
   "outputs": [
    {
     "data": {
      "image/png": "[encoded data removed]",
      "text/plain": [
       "<Figure size 432x288 with 1 Axes>"
      ]
     },
     "metadata": {},
     "output_type": "display_data"
    }
   ],
   "source": [
    "%matplotlib inline\n",
    "import matplotlib.pyplot as plt\n",
    "import numpy as np\n",
    "\n",
    "fig, ax = plt.subplots()\n",
    "line1, = ax.plot(x, Fx, '--', linewidth=2)\n",
    "plt.show()"
   ]
  },
  {
   "cell_type": "markdown",
   "metadata": {},
   "source": [
    "Letting $z(x) = \\int_{0}^{x} y(t) F(x-t) dt$, we approximate it with \n",
    "$$\n",
    "z(n) = \\frac{1}{2} \\sum^{n-1}_{i=0}(y(1)F(n-i) +y(i+1)F(n-i-1))  \n",
    "$$\n",
    "and\n",
    "$$\n",
    "z(n+1) = z(n) + \\int_{n}^{n+1} y(t) F(n-t) dt = z(n) + \\frac{1}{2}(y(n)F(1)+y(n+1)F(0))\n",
    "$$\n",
    "\n",
    "As $F(0) = 1$ and $F(1) = 1$, we have\n",
    "\n",
    "$$\n",
    "z(n+1) = z(n) + \\frac{1}{2}[y(n)+y(n+1)]\n",
    "$$\n",
    "\n",
    "or\n",
    "\n",
    "$$\n",
    "z(n) = z(n-1) + \\frac{1}{2}[y(n-1)+y(n)]\n",
    "$$"
   ]
  },
  {
   "cell_type": "markdown",
   "metadata": {},
   "source": [
    "The controling equation is simplified to \n",
    "\n",
    "\n",
    "$$\n",
    "y'(n) = \\frac{-\\frac{(m-r)^2}{2\\sigma^2} (y(n))^2 }{(p+rn)y(n) - \\lambda z(n)  + \\lambda F(n) \\delta(0)  }\n",
    "$$\n",
    "\n"
   ]
  },
  {
   "cell_type": "markdown",
   "metadata": {},
   "source": [
    "We also have an iteration function \n",
    "\n",
    "$$\n",
    "y(n) = y(n-1) + \\frac{1}{2}(y'(n-1)+y'(n))\n",
    "$$"
   ]
  },
  {
   "cell_type": "markdown",
   "metadata": {},
   "source": [
    "The relations between $z$, $y$ and $y'$ can be demonstrated as\n",
    "\n",
    "![relation](./dt.png)\n",
    "\n"
   ]
  },
  {
   "cell_type": "markdown",
   "metadata": {},
   "source": [
    "#### Initial values\n",
    "\n",
    "To start with, we already have \n",
    "\n",
    "$$\n",
    "y_0 = -\\frac{p}{\\lambda} \\delta(0) \\simeq -1.0e-10\n",
    "$$\n",
    "\n",
    "and \n",
    "$$\n",
    "z_0 = 0\n",
    "$$\n",
    "\n",
    "As $y'_0$ dependends only on $y_0$ and $z_0$, we can directly calculate it"
   ]
  },
  {
   "cell_type": "code",
   "execution_count": 4,
   "metadata": {},
   "outputs": [],
   "source": [
    "def cal_y_pri( y, z, n ):\n",
    "    return -(m-r)**2/(2*sigma*sigma)*y*y / (p+r*n) * y - Lambda*(z-Fx[n]*delta)"
   ]
  },
  {
   "cell_type": "markdown",
   "metadata": {},
   "source": [
    "And we have $y'_0$"
   ]
  },
  {
   "cell_type": "code",
   "execution_count": 5,
   "metadata": {},
   "outputs": [
    {
     "data": {
      "text/plain": [
       "1e-10"
      ]
     },
     "execution_count": 5,
     "metadata": {},
     "output_type": "execute_result"
    }
   ],
   "source": [
    "cal_y_pri(-1.0e-10, 0, 0)"
   ]
  },
  {
   "cell_type": "markdown",
   "metadata": {},
   "source": [
    "As is to $y_n$, it depends on $y'_n$, $y_{n-1}$ and $y'_{n-1}$"
   ]
  },
  {
   "cell_type": "code",
   "execution_count": 6,
   "metadata": {},
   "outputs": [],
   "source": [
    "# y(n) = y(n-1) + \\frac{1}{2}(y'(n-1)+y'(n))\n",
    "def cal_y(y_n_1, y_pri_n, y_pri_n_1):\n",
    "    return y_n_1 + 0.5 * (y_pri_n + y_pri_n_1)"
   ]
  },
  {
   "cell_type": "markdown",
   "metadata": {},
   "source": [
    "and $z_n$ "
   ]
  },
  {
   "cell_type": "code",
   "execution_count": 7,
   "metadata": {},
   "outputs": [],
   "source": [
    "#z(n) = z(n-1) + \\frac{1}{2}[y(n-1)+y(n)]\n",
    "def cal_z(z_n_1, y_n_1, y_n):\n",
    "    return z_n_1 + 0.5*(y_n_1+y_n)"
   ]
  },
  {
   "cell_type": "markdown",
   "metadata": {},
   "source": [
    "We first calculate numeric series $y$, $y'$ and $z$"
   ]
  },
  {
   "cell_type": "code",
   "execution_count": 8,
   "metadata": {},
   "outputs": [],
   "source": [
    "import numpy as np\n",
    "y = np.zeros(n)\n",
    "y_ = np.zeros(n)\n",
    "z = np.zeros(n)"
   ]
  },
  {
   "cell_type": "markdown",
   "metadata": {},
   "source": [
    "Then assign $y_0$, $y'_0$ and $z_0$"
   ]
  },
  {
   "cell_type": "code",
   "execution_count": 9,
   "metadata": {},
   "outputs": [],
   "source": [
    "y[0] = -1.0e-10\n",
    "z[0] = 0\n",
    "y_[0] = cal_y_pri(y[0], z[0], 0)"
   ]
  },
  {
   "cell_type": "markdown",
   "metadata": {},
   "source": [
    "Thereafter, we can implement them"
   ]
  },
  {
   "cell_type": "code",
   "execution_count": 10,
   "metadata": {},
   "outputs": [],
   "source": [
    "def calculate_y(n):\n",
    "    return cal_y(y[n-1], y_[n], y_[n-1])\n",
    "def calculate_y_(n):\n",
    "    return cal_y_pri(y[n], z[n], n)\n",
    "def calculate_z(n):\n",
    "    return cal_z(z[n-1], y[n-1], y[n])"
   ]
  },
  {
   "cell_type": "markdown",
   "metadata": {},
   "source": [
    "For the case of $n=1$, we first initialize $y[n]=y[n-1]$, $y'[n]=y'[n-1]$ and $z[n]=z[n-1]$:"
   ]
  },
  {
   "cell_type": "code",
   "execution_count": 11,
   "metadata": {},
   "outputs": [],
   "source": [
    "index = 1\n",
    "y[index] = y[index-1]\n",
    "y_[index] = y_[index-1]\n",
    "z[index] = z[index-1]"
   ]
  },
  {
   "cell_type": "markdown",
   "metadata": {},
   "source": [
    "Then we start to iterate"
   ]
  },
  {
   "cell_type": "code",
   "execution_count": 12,
   "metadata": {},
   "outputs": [],
   "source": [
    "for index in range( 1, n ):\n",
    "    a, b, c = y[index], y_[index], z[index]\n",
    "    max_iteration = 1000\n",
    "    for i in range(1000):\n",
    "        y[index] = calculate_y(index)\n",
    "        y_[index] = calculate_y_(index)\n",
    "        z[index] = calculate_z(index)\n",
    "        a_, b_, c_ = a-y[index], b-y_[index], c-z[index]\n",
    "        max_diff = max(abs(a_), abs(b_), abs(c_))\n",
    "        if (max_diff<1.0e-5):\n",
    "            break\n",
    "        a, b, c = y[index], y_[index], z[index]\n"
   ]
  },
  {
   "cell_type": "markdown",
   "metadata": {},
   "source": [
    "Now we have all the values for $y$, $y'$ and $z$"
   ]
  },
  {
   "cell_type": "code",
   "execution_count": 13,
   "metadata": {},
   "outputs": [
    {
     "data": {
      "image/png": "[encoded data removed]",
      "text/plain": [
       "<Figure size 432x288 with 1 Axes>"
      ]
     },
     "metadata": {},
     "output_type": "display_data"
    }
   ],
   "source": [
    "plt.plot(x, y, 'r--', x, y_, 'bs', x, z, 'g^')\n",
    "plt.show()"
   ]
  },
  {
   "cell_type": "markdown",
   "metadata": {},
   "source": [
    "And also to plot $\\frac{(m-r)y(x)}{x\\sigma^2y'(x)}$"
   ]
  },
  {
   "cell_type": "code",
   "execution_count": 14,
   "metadata": {},
   "outputs": [
    {
     "data": {
      "image/png": "[encoded data removed]",
      "text/plain": [
       "<Figure size 432x288 with 1 Axes>"
      ]
     },
     "metadata": {},
     "output_type": "display_data"
    }
   ],
   "source": [
    "ratio = np.zeros(n-1)\n",
    "for index in range(n-1):\n",
    "    ratio[index] = (m-r)*y[index+1] /(index+1)/(sigma**2)/y[index+1]\n",
    "    \n",
    "fig, ax = plt.subplots()\n",
    "line1, = ax.plot(range(n-1), ratio, '--', linewidth=2)\n",
    "plt.show()    "
   ]
  },
  {
   "cell_type": "code",
   "execution_count": null,
   "metadata": {},
   "outputs": [],
   "source": []
  }
 ],
 "metadata": {
  "kernelspec": {
   "display_name": "Python 3",
   "language": "python",
   "name": "python3"
  },
  "language_info": {
   "codemirror_mode": {
    "name": "ipython",
    "version": 3
   },
   "file_extension": ".py",
   "mimetype": "text/x-python",
   "name": "python",
   "nbconvert_exporter": "python",
   "pygments_lexer": "ipython3",
   "version": "3.6.5"
  }
 },
 "nbformat": 4,
 "nbformat_minor": 2
}
